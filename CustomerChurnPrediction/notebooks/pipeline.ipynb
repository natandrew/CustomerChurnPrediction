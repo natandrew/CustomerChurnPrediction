{
 "cells": [
  {
   "cell_type": "code",
   "execution_count": 21,
   "id": "1a4a4ccb-7a62-4149-b59a-ffd2b48bc3a3",
   "metadata": {},
   "outputs": [
    {
     "data": {
      "text/plain": [
       "['C:/Users/Nat Andrew/Desktop/CustomerChurnPrediction/models/churn_pipeline.pkl']"
      ]
     },
     "execution_count": 21,
     "metadata": {},
     "output_type": "execute_result"
    }
   ],
   "source": [
    "from sklearn.pipeline import Pipeline\n",
    "from sklearn.preprocessing import StandardScaler, OneHotEncoder\n",
    "from sklearn.impute import SimpleImputer\n",
    "from sklearn.decomposition import PCA\n",
    "from sklearn.linear_model import LogisticRegression\n",
    "from sklearn.compose import ColumnTransformer\n",
    "from imblearn.pipeline import Pipeline as ImbPipeline\n",
    "from imblearn.over_sampling import SMOTE\n",
    "import joblib\n",
    "from sklearn.discriminant_analysis import LinearDiscriminantAnalysis as LDA\n",
    "import pandas as pd\n",
    "\n",
    "def create_pipeline():\n",
    "    num_pipeline = Pipeline([\n",
    "        ('imputer', SimpleImputer(strategy='median')),\n",
    "        ('scaler', StandardScaler())\n",
    "    ])\n",
    "    cat_pipeline = Pipeline([\n",
    "        ('imputer', SimpleImputer(strategy='most_frequent')),\n",
    "        ('encoder', OneHotEncoder(handle_unknown='ignore'))\n",
    "    ])\n",
    "    preprocessor = ColumnTransformer([\n",
    "        ('num', num_pipeline, ['Age', 'Tenure', 'Usage Frequency', 'Support Calls', 'Payment Delay', 'Total Spend', 'Last Interaction']),\n",
    "        ('cat', cat_pipeline, ['Gender', 'Subscription Type', 'Contract Length'])\n",
    "    ])\n",
    "    pipeline = ImbPipeline([\n",
    "        ('preprocessing', preprocessor),\n",
    "        ('lda', LDA(n_components=1)),\n",
    "        ('model', LogisticRegression(solver='liblinear', penalty='l1', max_iter=100, C=0.01, random_state=42))\n",
    "    ])\n",
    "\n",
    "    return pipeline\n",
    "\n",
    "df_train = pd.read_csv('C:/Users/Nat Andrew/Desktop/CustomerChurnPrediction/data/churn_train.csv')\n",
    "df_train = df_train.dropna(subset=['Churn'])\n",
    "X_train = df_train.drop(columns=['CustomerID', 'Churn'])\n",
    "y_train = df_train['Churn']\n",
    "\n",
    "pipeline = create_pipeline()\n",
    "\n",
    "pipeline.fit(X_train, y_train)\n",
    "\n",
    "joblib.dump(pipeline, 'C:/Users/Nat Andrew/Desktop/CustomerChurnPrediction/models/churn_pipeline.pkl')"
   ]
  }
 ],
 "metadata": {
  "kernelspec": {
   "display_name": "Python 3 (ipykernel)",
   "language": "python",
   "name": "python3"
  },
  "language_info": {
   "codemirror_mode": {
    "name": "ipython",
    "version": 3
   },
   "file_extension": ".py",
   "mimetype": "text/x-python",
   "name": "python",
   "nbconvert_exporter": "python",
   "pygments_lexer": "ipython3",
   "version": "3.12.7"
  }
 },
 "nbformat": 4,
 "nbformat_minor": 5
}
